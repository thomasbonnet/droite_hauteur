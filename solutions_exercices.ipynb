{
 "cells": [
  {
   "cell_type": "markdown",
   "metadata": {},
   "source": [
    "#### exercice:\n",
    "Calculez la position de $P_g$ pour le 10 janvier 2020 à 15h 44min et 18s heure légale française"
   ]
  },
  {
   "cell_type": "markdown",
   "metadata": {},
   "source": [
    "#### Conversion de l'heure de la mesure en heure UTC décimale\n",
    "L'heure est donnée en heure légale française (UTC+1h en hiver et UTC+2h en été). \n",
    "Le 10 janvier, nous sommes en heur d'hiver donc:\n",
    "\n",
    "$$t_{UTC+1h} = 15h44min18s$$\n",
    "\n",
    "$$t_{UTC} = 14h44min18s$$\n",
    "\n",
    "Conversion en heures décimales:\n",
    "\n",
    "$$t_{UTC} = 14+44/60+18/3600$$\n",
    "\n",
    "$$t_{UTC} = 14.74h$$\n",
    "\n",
    "#### Lecture des éphémérides pour la date de la mesure à 00h UTC\n",
    "\n",
    "|date | AHvo | var AHvo| Dec | var Dec|\n",
    "|-----|------|---------|-----|--------|\n",
    "|2020 Jan 10 |$178^{\\circ} 13.5'$ | $14.996^{\\circ}$ | $S\\ 22^{\\circ}  3.9'$ | $-0.37'$ |\n",
    "| 2020 Jan 11 | $178^{\\circ} 7.4'$| $14.996^{\\circ}$ | $S\\ 21^{\\circ}  55.0'$ | $-0.39'$|\n",
    "\n",
    "#### A vue de nez...\n",
    "On arrondi 14,74h à 15h. C'est 12h + 3h. On sait que le soleil parcourt $15^{\\circ}$ de longitude par heure et qu'à midi, il est au dessus du méridien de Greenwich $0^{\\circ}$. A 15h, AHvo doit donc être à $45^{\\circ}$.\n",
    "\n",
    "La déclinaison est comprise entre $S\\ 22^{\\circ}  3.9'$ et $S\\ 21^{\\circ}  55.0'$.\n",
    "\n",
    "#### Calcul de AHvo à l'heure de la mesure\n",
    "conversion des angles en degrès et minutes en dégrés:\n",
    "$$178 + 13.5/60 = 178.225$$\n",
    "\n",
    "var de AHvo en 14.74h:\n",
    "\n",
    "$$14.996 * 14.74= 221.04$$\n",
    "\n",
    "on sommes les deux:\n",
    "\n",
    "$$AHvo = 178.225 + 221.04 $$\n",
    "\n",
    "$$AHvo = 399.27 - 360 $$\n",
    "\n",
    "$$AHvo = 39.27 $$\n",
    "\n",
    "$$AHvo = 39^{\\circ} 16' $$\n",
    "\n",
    "\n",
    "#### Calcul de Dec à l'heure de la mesure\n",
    "var de dec en 14.74h:\n",
    "\n",
    "$$-0.37 * 14.74= -5.5$$\n",
    "\n",
    "on somme les deux:\n",
    "$$Dec = S\\ 22^{\\circ}  3.9' -5.5'$$\n",
    "\n",
    "$$Dec = S\\ 21^{\\circ}  58.4'$$"
   ]
  },
  {
   "cell_type": "code",
   "execution_count": 2,
   "metadata": {},
   "outputs": [
    {
     "data": {
      "text/plain": [
       "-0.09088433333333333"
      ]
     },
     "execution_count": 2,
     "metadata": {},
     "output_type": "execute_result"
    }
   ],
   "source": [
    "-0.37/60 * 14.738"
   ]
  },
  {
   "cell_type": "code",
   "execution_count": 4,
   "metadata": {},
   "outputs": [
    {
     "data": {
      "text/plain": [
       "21.97411566666667"
      ]
     },
     "execution_count": 4,
     "metadata": {},
     "output_type": "execute_result"
    }
   ],
   "source": [
    "22 + 3.9/60 - 0.09088433333333333"
   ]
  },
  {
   "cell_type": "code",
   "execution_count": 5,
   "metadata": {},
   "outputs": [
    {
     "data": {
      "text/plain": [
       "58.446940000000204"
      ]
     },
     "execution_count": 5,
     "metadata": {},
     "output_type": "execute_result"
    }
   ],
   "source": [
    "0.97411566666667 * 60"
   ]
  }
 ],
 "metadata": {
  "kernelspec": {
   "display_name": "Python 3",
   "language": "python",
   "name": "python3"
  },
  "language_info": {
   "codemirror_mode": {
    "name": "ipython",
    "version": 3
   },
   "file_extension": ".py",
   "mimetype": "text/x-python",
   "name": "python",
   "nbconvert_exporter": "python",
   "pygments_lexer": "ipython3",
   "version": "3.6.9"
  }
 },
 "nbformat": 4,
 "nbformat_minor": 4
}
